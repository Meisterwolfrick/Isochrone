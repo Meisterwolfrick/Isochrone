{
 "cells": [
  {
   "cell_type": "code",
   "execution_count": 1,
   "id": "a134df1a",
   "metadata": {},
   "outputs": [],
   "source": [
    "%run MassTracks.ipynb"
   ]
  },
  {
   "cell_type": "code",
   "execution_count": 2,
   "id": "222ed2c9",
   "metadata": {},
   "outputs": [],
   "source": [
    "import sys\n",
    "import numpy as np\n",
    "import matplotlib.pyplot as plt\n",
    "import os\n",
    "from scipy.interpolate import interp1d\n",
    "from pathlib import Path\n",
    "import math"
   ]
  },
  {
   "cell_type": "code",
   "execution_count": 3,
   "id": "9c6a9faf",
   "metadata": {},
   "outputs": [],
   "source": [
    "class IsochroneInterpolation:\n",
    "    def __init__(self):\n",
    "        age = input(\"What Age would you like the isochrone to be? \")\n",
    "        \n",
    "    def interpolate_ZAMS(age):\n",
    "        global model\n",
    "        ZAMSarray = np.empty(shape=[0, 61])\n",
    "        for (root, dirs, file) in os.walk('./Complete_files_folder/'):\n",
    "            for track in file:\n",
    "                ZAMSarray = np.row_stack((ZAMSarray, models[track][ZAMS]))\n",
    "\n",
    "        int_curve = interp1d(ZAMSarray[:,2], ZAMSarray[:,0:], axis=0)\n",
    "        IsochroneZAMS = np.array(int_curve(age))\n",
    "        return IsochroneZAMS\n",
    "\n",
    "    def interpolate_IAMS(age):\n",
    "        global model\n",
    "        IAMSarray = np.empty(shape=[0, 61])\n",
    "        for (root, dirs, file) in os.walk('./Complete_files_folder/'):\n",
    "            for track in file:\n",
    "                IAMSarray = np.row_stack((IAMSarray, models[track][IAMS]))\n",
    "\n",
    "\n",
    "        int_curve = interp1d(IAMSarray[:,2], IAMSarray[:,0:], axis=0)\n",
    "        IsochroneIAMS = np.array(int_curve(age))\n",
    "        return IsochroneIAMS\n",
    "\n",
    "    def interpolate_TAMS(age):\n",
    "        global model\n",
    "        TAMSarray = np.empty(shape=[0, 61])\n",
    "        for (root, dirs, file) in os.walk('./Complete_files_folder/'):\n",
    "            for track in file:\n",
    "                TAMSarray = np.row_stack((TAMSarray, models[track][TAMS]))\n",
    "\n",
    "        print(TAMSarray)\n",
    "        int_curve = interp1d(TAMSarray[:,2], TAMSarray[:,0:], axis=0)\n",
    "        IsochroneTAMS = np.array(int_curve(age))\n",
    "        return IsochroneTAMS\n",
    "    \n",
    "    def interpolate_RGBTip(age):\n",
    "        RGBTiparray = np.empty(shape=[0, 61])\n",
    "        for (root, dirs, file) in os.walk('./Complete_files_folder/'):\n",
    "            for track in file:\n",
    "                RGBTiparray = np.row_stack((RGBTiparray, models[track][RGBTip]))\n",
    "        \n",
    "        int_curve = interp1d(RGBTiparray[:,2], RGBTiparray[:,0:], axis=0)\n",
    "        IsochroneRGBTip = np.array(int_curve(age))\n",
    "        return IsochroneRGBTip\n",
    "    \n",
    "    def interpolate_sEEP(age):\n",
    "        global models\n",
    "        allsEEParray = np.empty(shape=[0, 61])\n",
    "        n = 201\n",
    "        while n < 603:\n",
    "            for (root, dirs, file) in os.walk('./Complete_files_folder/'):\n",
    "                sEEParray = np.empty(shape=[0, 61])\n",
    "                for track in file:\n",
    "                    sEEParray = np.row_stack((sEEParray, models[track][sEEP][n,:]))\n",
    "                int_curve = interp1d(sEEParray[:,2], sEEParray[:,0:], axis=0)\n",
    "                IsochronesEEP = np.array(int_curve(age))\n",
    "                allsEEParray = np.row_stack((allsEEParray, IsochronesEEP))\n",
    "            n += 1\n",
    "        return allsEEParray\n",
    "        \n",
    "        "
   ]
  },
  {
   "cell_type": "code",
   "execution_count": 4,
   "id": "57341909",
   "metadata": {},
   "outputs": [],
   "source": [
    "#This class will eventually combine all interpolated EEPs into one graph\n",
    "class IsochroneCreation:\n",
    "    def create_Isochrone(age):\n",
    "        Isochrone = np.empty(shape=[0,61])\n",
    "        Isochrone = np.append(Isochrone, IsochroneInterpolation.interpolate_ZAMS(age))"
   ]
  },
  {
   "cell_type": "code",
   "execution_count": null,
   "id": "37ff8f5a",
   "metadata": {},
   "outputs": [],
   "source": []
  }
 ],
 "metadata": {
  "kernelspec": {
   "display_name": "Python 3 (ipykernel)",
   "language": "python",
   "name": "python3"
  },
  "language_info": {
   "codemirror_mode": {
    "name": "ipython",
    "version": 3
   },
   "file_extension": ".py",
   "mimetype": "text/x-python",
   "name": "python",
   "nbconvert_exporter": "python",
   "pygments_lexer": "ipython3",
   "version": "3.10.9"
  }
 },
 "nbformat": 4,
 "nbformat_minor": 5
}
